{
 "cells": [
  {
   "cell_type": "markdown",
   "metadata": {},
   "source": [
    "# Exercícios Módulo 2. Unidade 2. Métodos aplicados (Soluções)\n",
    "\n",
    "Considerações a ter em conta:\n",
    "\n",
    "* Guardar este documento com o seguinte formato para entrega: __M4_02_nome_apelido1_apelido2__\n",
    "* Fazer os exercícios com as ferramentas vistas nas sessões. \n",
    "* Comentar o código\n",
    "* Utilizar nomes de variáveis apropriados, se vai guardar uma nota, chamar a essa variável nota, não n ou x"
   ]
  },
  {
   "cell_type": "markdown",
   "metadata": {},
   "source": [
    "**1) Solicitar um texto ao utilizador e dizer se:**\n",
    "* O texto é uma cadeia de texto\n",
    "* O texto é uma cadeia de dígitos\n",
    "* O texto inclui caracteres e números"
   ]
  },
  {
   "cell_type": "code",
   "execution_count": 6,
   "metadata": {},
   "outputs": [
    {
     "name": "stdout",
     "output_type": "stream",
     "text": [
      "Digite um texto: 1\n",
      "O texto é uma cadeia de dígitos.\n"
     ]
    }
   ],
   "source": [
    "def verificar_tipo_texto(texto):\n",
    "    \n",
    "    # Verificar se o texto é uma cadeia de texto\n",
    "    if texto.isalpha():\n",
    "        return \"O texto é uma cadeia de texto.\"\n",
    "    \n",
    "    # Verificar se o texto é uma cadeia de dígitos\n",
    "    elif texto.isdigit():\n",
    "        return \"O texto é uma cadeia de dígitos.\"\n",
    "    \n",
    "    # Verificar se o texto inclui caracteres e números\n",
    "    else:\n",
    "        return \"O texto inclui caracteres e números.\"\n",
    "\n",
    "# Solicitar um texto ao utilizador\n",
    "texto_do_usuario = input(\"Digite um texto: \")\n",
    "\n",
    "# Imprimir o resultado\n",
    "resultado = verificar_tipo_texto(texto_do_usuario)\n",
    "print(resultado)"
   ]
  },
  {
   "cell_type": "markdown",
   "metadata": {},
   "source": [
    "**2) Solicitar ao utilizador um texto e uma palavra a pesquisar dentro do texto. Se a localizar, extrair desde essa posição até ao final da frase e armazená-lo noutra variável, e imprimir.** \n",
    "* Exemplo de texto: Olá mundo que tal \n",
    "* Pesquisamos: mundo\n",
    "* Resultado: mundo que tal"
   ]
  },
  {
   "cell_type": "code",
   "execution_count": 3,
   "metadata": {},
   "outputs": [
    {
     "name": "stdout",
     "output_type": "stream",
     "text": [
      "Digite um texto: Olá mundo que tal\n",
      "Digite a palavra a ser pesquisada: mundo\n",
      "mundo que tal\n"
     ]
    }
   ],
   "source": [
    "def extrair_substring(texto, palavra_pesquisada):\n",
    "    \n",
    "    # Procurar a posição da palavra no texto\n",
    "    posicao_palavra = texto.find(palavra_pesquisada)\n",
    "\n",
    "    # Verificar se a palavra foi encontrada \n",
    "    if posicao_palavra != -1:\n",
    "    \n",
    "    # Extrair a substring desde a posição da palavra até o final da frase\n",
    "        resultado = texto[posicao_palavra:]\n",
    "        return resultado\n",
    "    else:\n",
    "        return \"A palavra não foi encontrada no texto.\"\n",
    "\n",
    "# Solicitar ao utilizador  um texto\n",
    "texto_do_usuario = input(\"Digite um texto: \")\n",
    "\n",
    "# Solicitar ao utilizador uma palavra a pesquisada\n",
    "palavra_pesquisada = input(\"Digite a palavra a ser pesquisada: \")\n",
    "\n",
    "# Imprimir o resultado\n",
    "resultado = extrair_substring(texto_do_usuario, palavra_pesquisada)\n",
    "print(resultado)"
   ]
  },
  {
   "cell_type": "markdown",
   "metadata": {},
   "source": [
    "**3) Partindo de uma stri com diferentes palavras separadas por espaços, criar uma lista onde cada elemento seja cada palavra do texto. Mostrar essa lista e mostrar o número de vezes que se encontra a palavra \"mundo\" nessa lista**\n",
    "\n",
    "* Texto = “Olá mundo mundo que tal mundo estás”\n",
    "* Resultado = 3"
   ]
  },
  {
   "cell_type": "code",
   "execution_count": 7,
   "metadata": {},
   "outputs": [
    {
     "name": "stdout",
     "output_type": "stream",
     "text": [
      "Lista de palavras: ['Olá', 'mundo', 'mundo', 'que', 'tal', 'mundo', 'estás']\n",
      "Número de vezes que 'mundo' aparece na lista: 3\n"
     ]
    }
   ],
   "source": [
    "def contar_palavras_e_ocorrencias(texto, palavra_alvo):\n",
    "    \n",
    "    # Dividir a string em palavras usando o espaço \n",
    "    lista_palavras = texto.split()\n",
    "\n",
    "    # Contar o número de vezes que a palavra_alvo aparece na lista\n",
    "    ocorrencias = lista_palavras.count(palavra_alvo)\n",
    "\n",
    "    return lista_palavras, ocorrencias\n",
    "\n",
    "# Texto fornecido\n",
    "texto = \"Olá mundo mundo que tal mundo estás\"\n",
    "\n",
    "# Palavra a ser contada\n",
    "palavra_alvo = \"mundo\"\n",
    "\n",
    "# Chamar a função para criar a lista de palavras e contar ocorrências\n",
    "lista_palavras, ocorrencias = contar_palavras_e_ocorrencias(texto, palavra_alvo)\n",
    "\n",
    "# Exibir a lista de palavras e o número de vezes que a palavra_alvo aparece\n",
    "print(\"Lista de palavras:\", lista_palavras)\n",
    "print(f\"Número de vezes que '{palavra_alvo}' aparece na lista: {ocorrencias}\")\n"
   ]
  },
  {
   "cell_type": "code",
   "execution_count": null,
   "metadata": {},
   "outputs": [],
   "source": []
  }
 ],
 "metadata": {
  "anaconda-cloud": {},
  "kernelspec": {
   "display_name": "Python 3 (ipykernel)",
   "language": "python",
   "name": "python3"
  },
  "language_info": {
   "codemirror_mode": {
    "name": "ipython",
    "version": 3
   },
   "file_extension": ".py",
   "mimetype": "text/x-python",
   "name": "python",
   "nbconvert_exporter": "python",
   "pygments_lexer": "ipython3",
   "version": "3.11.5"
  }
 },
 "nbformat": 4,
 "nbformat_minor": 1
}
